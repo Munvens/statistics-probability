{
 "cells": [
  {
   "cell_type": "markdown",
   "id": "fad106b7",
   "metadata": {},
   "source": [
    "# StatProb"
   ]
  },
  {
   "cell_type": "markdown",
   "id": "669ec7d4",
   "metadata": {},
   "source": [
    "Model 1.2"
   ]
  },
  {
   "cell_type": "markdown",
   "id": "1161510a",
   "metadata": {},
   "source": [
    "1. Dalam suatu liga sepak bola, dipilih secara acak 10 pemain dari klub yang berbeda dan diketahui jumlah gol yang mereka raih dalam musim ini adalah: 19, 10, 10, 12, 13, 15, 14, 13, 9, 17. Lakukan analisis terhadap sebaran data dari dataset yang diberikan. Manakah ukuran sebaran yang paling mampu menggambarkan sebaran data dengan baik?"
   ]
  },
  {
   "cell_type": "code",
   "execution_count": 26,
   "id": "05d5d05d",
   "metadata": {},
   "outputs": [
    {
     "name": "stdout",
     "output_type": "stream",
     "text": [
      "Mean: 13.2\n",
      "Median: 13.0\n",
      "Range: 10\n",
      "Variance: 9.16\n",
      "Standard Deviation: 3.026549190084311\n",
      "Interquartile Range (IQR): 5\n"
     ]
    }
   ],
   "source": [
    "data = [19, 10, 10, 12, 13, 15, 14, 13, 9, 17]\n",
    "\n",
    "# Mean\n",
    "mean = sum(data) / len(data)\n",
    "print(\"Mean:\", mean)\n",
    "\n",
    "# Median\n",
    "sorted_data = sorted(data)\n",
    "n = len(sorted_data)\n",
    "median = (sorted_data[n//2] + sorted_data[(n-1)//2]) / 2\n",
    "print(\"Median:\", median)\n",
    "\n",
    "# Range\n",
    "range_data = max(data) - min(data)\n",
    "print(\"Range:\", range_data)\n",
    "\n",
    "# Variance and Standard Deviation\n",
    "variance = sum((x - mean) ** 2 for x in data) / len(data)\n",
    "std_deviation = variance ** 0.5\n",
    "print(\"Variance:\", variance)\n",
    "print(\"Standard Deviation:\", std_deviation)\n",
    "\n",
    "# Interquartile Range (IQR)\n",
    "q1 = sorted_data[int(n*0.25)]\n",
    "q3 = sorted_data[int(n*0.75)]\n",
    "iqr = q3 - q1\n",
    "print(\"Interquartile Range (IQR):\", iqr)"
   ]
  },
  {
   "cell_type": "markdown",
   "id": "fe737007",
   "metadata": {},
   "source": [
    "2. Dalam tim olahraga, tinggi pemain adalah: 180 cm, 185 cm, 175 cm, 190 cm, 170 cm, 195 cm, 165 cm. Bagaimana sebaran data dari tinggi pemain ini?"
   ]
  },
  {
   "cell_type": "code",
   "execution_count": 1,
   "id": "b957b97f",
   "metadata": {},
   "outputs": [
    {
     "name": "stdout",
     "output_type": "stream",
     "text": [
      "Mean Tall: 180.0\n",
      "Median Tall: 180.0\n",
      "Range Tall: 30\n",
      "Variance Tall: 100.0\n",
      "Standard Deviation Tall: 10.0\n",
      "IQR Tall: 20\n"
     ]
    }
   ],
   "source": [
    "tall_pemain = [180, 185, 175, 190, 170, 195, 165]\n",
    "\n",
    "# Mean\n",
    "mean_tall = sum(tall_pemain) / len(tall_pemain)\n",
    "print(\"Mean Tall:\", mean_tall)\n",
    "\n",
    "# Median\n",
    "sorted_tall = sorted(tall_pemain)\n",
    "n_tall = len(sorted_tall)\n",
    "median_tall = (sorted_tall[n_tall//2] + sorted_tall[(n_tall-1)//2]) / 2\n",
    "print(\"Median Tall:\", median_tall)\n",
    "\n",
    "# Range\n",
    "range_tall = max(tall_pemain) - min(tall_pemain)\n",
    "print(\"Range Tall:\", range_tall)\n",
    "\n",
    "# Variance and Standard Deviation\n",
    "variance_tall = sum((x - mean_tall) ** 2 for x in tall_pemain) / len(tall_pemain)\n",
    "std_deviation_tall = variance_tall ** 0.5\n",
    "print(\"Variance Tall:\", variance_tall)\n",
    "print(\"Standard Deviation Tall:\", std_deviation_tall)\n",
    "\n",
    "# IQR\n",
    "q1_tall = sorted_tall[int(n_tall*0.25)]\n",
    "q3_tall = sorted_tall[int(n_tall*0.75)]\n",
    "iqr_tall = q3_tall - q1_tall\n",
    "print(\"IQR Tall:\", iqr_tall)"
   ]
  }
 ],
 "metadata": {
  "kernelspec": {
   "display_name": "Python 3 (ipykernel)",
   "language": "python",
   "name": "python3"
  },
  "language_info": {
   "codemirror_mode": {
    "name": "ipython",
    "version": 3
   },
   "file_extension": ".py",
   "mimetype": "text/x-python",
   "name": "python",
   "nbconvert_exporter": "python",
   "pygments_lexer": "ipython3",
   "version": "3.11.5"
  }
 },
 "nbformat": 4,
 "nbformat_minor": 5
}
